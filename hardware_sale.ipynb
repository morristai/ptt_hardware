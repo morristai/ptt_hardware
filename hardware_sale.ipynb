{
 "cells": [
  {
   "cell_type": "code",
   "execution_count": 3,
   "metadata": {},
   "outputs": [],
   "source": [
    "import requests\n",
    "import re\n",
    "from bs4 import BeautifulSoup\n",
    "import pandas as pd\n",
    "import pickle\n",
    "\n",
    "header = {\n",
    "    \"user-agent\": \"Mozilla/5.0 (Windows NT 10.0; Win64; x64) AppleWebKit/537.36 (KHTML, like Gecko) Chrome/80.0.3987.122 Safari/537.36\",\n",
    "    \"sec-fetch-user\": \"?1\",\n",
    "    \"dnt\": \"1\",\n",
    "    \"accept-encoding\": \"gzip, deflate\",  # 不能放br，不然就是要裝額外的解碼器\n",
    "    \"accept-language\": \"zh-TW,zh;q=0.9,en-US;q=0.8,en;q=0.7\",\n",
    "    \"accept\": \"text/html,application/xhtml+xml,application/xml;q=0.9,image/webp,image/apng,*/*;q=0.8,application/signed-exchange;v=b3;q=0.9\",\n",
    "    \"cookie\": \"__cfduid=d5bf85bc78cd75c30beabfc2c14e52e5f1567955601; _ga=GA1.2.410818996.1567955602; _gid=GA1.2.1223439128.1582700194; _gat=1\",\n",
    "    \"sec-fetch-dest\": \"document\",\n",
    "    \"sec-fetch-mode\": \"navigate\",\n",
    "    \"sec-fetch-site\": \"none\",\n",
    "    \"upgrade-insecure-requests\": \"1\",\n",
    "}\n",
    "proxies = {\n",
    "    \"http\": \"http://proxy-chain.intel.com:912\",\n",
    "    \"https\": \"http://proxy-chain.intel.com:912\"\n",
    "}\n",
    "\n",
    "\n",
    "def get_data(proxy=False):\n",
    "    if proxy:\n",
    "        resp = requests.get(\"https://www.ptt.cc/bbs/HardwareSale/index.html\", headers=header,\n",
    "                            verify=True, timeout=3, proxies=proxies)\n",
    "    else:\n",
    "        resp = requests.get(\"https://www.ptt.cc/bbs/HardwareSale/index.html\", headers=header,\n",
    "                            verify=True, timeout=3)\n",
    "    return resp\n",
    "\n",
    "\n",
    "resp = get_data()\n",
    "\n",
    "resp.encoding = 'utf-8'\n",
    "soup = BeautifulSoup(resp.text, 'html.parser')"
   ]
  },
  {
   "cell_type": "code",
   "execution_count": 4,
   "metadata": {},
   "outputs": [],
   "source": [
    "latest = str(soup.find_all(\"a\", string=\"‹ 上頁\")[0])\n",
    "latest = int(re.search('\\d{4}', latest).group(0))\n",
    "for i in range(1, 3):\n",
    "    URL = f\"https://www.ptt.cc/bbs/HardwareSale/index{latest-i}.html\""
   ]
  },
  {
   "cell_type": "code",
   "execution_count": 6,
   "metadata": {},
   "outputs": [
    {
     "name": "stdout",
     "output_type": "stream",
     "text": "[賣/新竹/皆可] ASUS RT-AC1200 路由器 \n"
    }
   ],
   "source": [
    "# soup.find_all(\"div\", {\"class\": \"title\"})\n",
    "def search_word(words=None):\n",
    "    ary = []\n",
    "    if words is None:\n",
    "        words = []\n",
    "    for item in soup.select('.title'):\n",
    "        try:\n",
    "            title = item.select_one('a').text\n",
    "        except:\n",
    "            continue\n",
    "        ary.append({'title': title})\n",
    "        for key in words:\n",
    "            if bool(re.match(f\".*賣.*{key}.*\", title)):\n",
    "                print(title)\n",
    "\n",
    "\n",
    "search_word([\"ASUS\", \"1070\", \"2070\", \"Keychron\", \"R5-1600\"])"
   ]
  },
  {
   "cell_type": "code",
   "execution_count": 22,
   "metadata": {},
   "outputs": [],
   "source": [
    "df = pd.DataFrame(ary)\n",
    "df2 = pd.DataFrame(ary)\n",
    "df = pd.concat([df, df2])"
   ]
  },
  {
   "cell_type": "code",
   "execution_count": 23,
   "metadata": {},
   "outputs": [
    {
     "data": {
      "text/html": [
       "<div>\n",
       "<style scoped>\n",
       "    .dataframe tbody tr th:only-of-type {\n",
       "        vertical-align: middle;\n",
       "    }\n",
       "\n",
       "    .dataframe tbody tr th {\n",
       "        vertical-align: top;\n",
       "    }\n",
       "\n",
       "    .dataframe thead th {\n",
       "        text-align: right;\n",
       "    }\n",
       "</style>\n",
       "<table border=\"1\" class=\"dataframe\">\n",
       "  <thead>\n",
       "    <tr style=\"text-align: right;\">\n",
       "      <th></th>\n",
       "      <th>title</th>\n",
       "    </tr>\n",
       "  </thead>\n",
       "  <tbody>\n",
       "    <tr>\n",
       "      <th>0</th>\n",
       "      <td>[賣/彰化/皆可] MSI 1070Gaming X</td>\n",
       "    </tr>\n",
       "    <tr>\n",
       "      <th>1</th>\n",
       "      <td>[賣/台中/皆可] H110 H310 ITX/960G SSD</td>\n",
       "    </tr>\n",
       "    <tr>\n",
       "      <th>2</th>\n",
       "      <td>[賣/桃園/面交] Keychron K2茶軸 / G304</td>\n",
       "    </tr>\n",
       "    <tr>\n",
       "      <th>3</th>\n",
       "      <td>[賣/台南/皆可]  羅技G502 有線滑鼠</td>\n",
       "    </tr>\n",
       "    <tr>\n",
       "      <th>4</th>\n",
       "      <td>[徵/台中/面交] pci Gigabit網卡</td>\n",
       "    </tr>\n",
       "    <tr>\n",
       "      <th>5</th>\n",
       "      <td>[徵/全國/皆可] AMD R5-1600</td>\n",
       "    </tr>\n",
       "    <tr>\n",
       "      <th>6</th>\n",
       "      <td>[徵/台北/皆可] 金士頓HyperX Cloud Silver耳機</td>\n",
       "    </tr>\n",
       "    <tr>\n",
       "      <th>7</th>\n",
       "      <td>[賣/台南/皆可] i5-2400</td>\n",
       "    </tr>\n",
       "    <tr>\n",
       "      <th>8</th>\n",
       "      <td>[賣/高雄/皆可]利民 AS120 plus 塔散 TY-143 SQ</td>\n",
       "    </tr>\n",
       "    <tr>\n",
       "      <th>9</th>\n",
       "      <td>[賣/新竹/面交]美光 DDR4-3000 8Gx2 競技版(白)</td>\n",
       "    </tr>\n",
       "    <tr>\n",
       "      <th>10</th>\n",
       "      <td>[賣/台中/面交] AMD A6-3600 完整主機1000元</td>\n",
       "    </tr>\n",
       "    <tr>\n",
       "      <th>11</th>\n",
       "      <td>[賣/台北/面交] 創見DDR2 800 2G</td>\n",
       "    </tr>\n",
       "    <tr>\n",
       "      <th>12</th>\n",
       "      <td>[賣/淡水/皆可] MSI Vega56 Airboost</td>\n",
       "    </tr>\n",
       "    <tr>\n",
       "      <th>13</th>\n",
       "      <td>[賣/台中/皆可] 美光 LT DDR4 3200 16G x2</td>\n",
       "    </tr>\n",
       "    <tr>\n",
       "      <th>14</th>\n",
       "      <td>[賣/台北/面交] 海盜船500W 銅牌 I3-2100</td>\n",
       "    </tr>\n",
       "    <tr>\n",
       "      <th>15</th>\n",
       "      <td>[徵/全國/皆可] AMD TR2 2970WX or 2990WX</td>\n",
       "    </tr>\n",
       "    <tr>\n",
       "      <th>16</th>\n",
       "      <td>[徵/台北/面交]  AMD Phenom X6 1100t 1090t</td>\n",
       "    </tr>\n",
       "    <tr>\n",
       "      <th>17</th>\n",
       "      <td>[公告] 二手板板規 (2019/3/1) / 處分公告</td>\n",
       "    </tr>\n",
       "    <tr>\n",
       "      <th>18</th>\n",
       "      <td>[公告] \"禁止發文者刪減或清空文章\"釋義</td>\n",
       "    </tr>\n",
       "    <tr>\n",
       "      <th>19</th>\n",
       "      <td>[公告] 估價文從嚴審核</td>\n",
       "    </tr>\n",
       "    <tr>\n",
       "      <th>20</th>\n",
       "      <td>[公告] 檢舉中心 匯款前有疑慮請撥165防詐騙電話</td>\n",
       "    </tr>\n",
       "    <tr>\n",
       "      <th>21</th>\n",
       "      <td>[黑名單] JingYu77 詐騙 已報案</td>\n",
       "    </tr>\n",
       "    <tr>\n",
       "      <th>0</th>\n",
       "      <td>[賣/彰化/皆可] MSI 1070Gaming X</td>\n",
       "    </tr>\n",
       "    <tr>\n",
       "      <th>1</th>\n",
       "      <td>[賣/台中/皆可] H110 H310 ITX/960G SSD</td>\n",
       "    </tr>\n",
       "    <tr>\n",
       "      <th>2</th>\n",
       "      <td>[賣/桃園/面交] Keychron K2茶軸 / G304</td>\n",
       "    </tr>\n",
       "    <tr>\n",
       "      <th>3</th>\n",
       "      <td>[賣/台南/皆可]  羅技G502 有線滑鼠</td>\n",
       "    </tr>\n",
       "    <tr>\n",
       "      <th>4</th>\n",
       "      <td>[徵/台中/面交] pci Gigabit網卡</td>\n",
       "    </tr>\n",
       "    <tr>\n",
       "      <th>5</th>\n",
       "      <td>[徵/全國/皆可] AMD R5-1600</td>\n",
       "    </tr>\n",
       "    <tr>\n",
       "      <th>6</th>\n",
       "      <td>[徵/台北/皆可] 金士頓HyperX Cloud Silver耳機</td>\n",
       "    </tr>\n",
       "    <tr>\n",
       "      <th>7</th>\n",
       "      <td>[賣/台南/皆可] i5-2400</td>\n",
       "    </tr>\n",
       "    <tr>\n",
       "      <th>8</th>\n",
       "      <td>[賣/高雄/皆可]利民 AS120 plus 塔散 TY-143 SQ</td>\n",
       "    </tr>\n",
       "    <tr>\n",
       "      <th>9</th>\n",
       "      <td>[賣/新竹/面交]美光 DDR4-3000 8Gx2 競技版(白)</td>\n",
       "    </tr>\n",
       "    <tr>\n",
       "      <th>10</th>\n",
       "      <td>[賣/台中/面交] AMD A6-3600 完整主機1000元</td>\n",
       "    </tr>\n",
       "    <tr>\n",
       "      <th>11</th>\n",
       "      <td>[賣/台北/面交] 創見DDR2 800 2G</td>\n",
       "    </tr>\n",
       "    <tr>\n",
       "      <th>12</th>\n",
       "      <td>[賣/淡水/皆可] MSI Vega56 Airboost</td>\n",
       "    </tr>\n",
       "    <tr>\n",
       "      <th>13</th>\n",
       "      <td>[賣/台中/皆可] 美光 LT DDR4 3200 16G x2</td>\n",
       "    </tr>\n",
       "    <tr>\n",
       "      <th>14</th>\n",
       "      <td>[賣/台北/面交] 海盜船500W 銅牌 I3-2100</td>\n",
       "    </tr>\n",
       "    <tr>\n",
       "      <th>15</th>\n",
       "      <td>[徵/全國/皆可] AMD TR2 2970WX or 2990WX</td>\n",
       "    </tr>\n",
       "    <tr>\n",
       "      <th>16</th>\n",
       "      <td>[徵/台北/面交]  AMD Phenom X6 1100t 1090t</td>\n",
       "    </tr>\n",
       "    <tr>\n",
       "      <th>17</th>\n",
       "      <td>[公告] 二手板板規 (2019/3/1) / 處分公告</td>\n",
       "    </tr>\n",
       "    <tr>\n",
       "      <th>18</th>\n",
       "      <td>[公告] \"禁止發文者刪減或清空文章\"釋義</td>\n",
       "    </tr>\n",
       "    <tr>\n",
       "      <th>19</th>\n",
       "      <td>[公告] 估價文從嚴審核</td>\n",
       "    </tr>\n",
       "    <tr>\n",
       "      <th>20</th>\n",
       "      <td>[公告] 檢舉中心 匯款前有疑慮請撥165防詐騙電話</td>\n",
       "    </tr>\n",
       "    <tr>\n",
       "      <th>21</th>\n",
       "      <td>[黑名單] JingYu77 詐騙 已報案</td>\n",
       "    </tr>\n",
       "  </tbody>\n",
       "</table>\n",
       "</div>"
      ],
      "text/plain": [
       "                                    title\n",
       "0              [賣/彰化/皆可] MSI 1070Gaming X\n",
       "1        [賣/台中/皆可] H110 H310 ITX/960G SSD\n",
       "2          [賣/桃園/面交] Keychron K2茶軸 / G304\n",
       "3                  [賣/台南/皆可]  羅技G502 有線滑鼠\n",
       "4                [徵/台中/面交] pci Gigabit網卡 \n",
       "5                 [徵/全國/皆可] AMD R5-1600  \n",
       "6      [徵/台北/皆可] 金士頓HyperX Cloud Silver耳機\n",
       "7                       [賣/台南/皆可] i5-2400\n",
       "8     [賣/高雄/皆可]利民 AS120 plus 塔散 TY-143 SQ\n",
       "9      [賣/新竹/面交]美光 DDR4-3000 8Gx2 競技版(白) \n",
       "10       [賣/台中/面交] AMD A6-3600 完整主機1000元 \n",
       "11                [賣/台北/面交] 創見DDR2 800 2G\n",
       "12          [賣/淡水/皆可] MSI Vega56 Airboost\n",
       "13       [賣/台中/皆可] 美光 LT DDR4 3200 16G x2\n",
       "14           [賣/台北/面交] 海盜船500W 銅牌 I3-2100\n",
       "15     [徵/全國/皆可] AMD TR2 2970WX or 2990WX\n",
       "16  [徵/台北/面交]  AMD Phenom X6 1100t 1090t \n",
       "17           [公告] 二手板板規 (2019/3/1) / 處分公告\n",
       "18                  [公告] \"禁止發文者刪減或清空文章\"釋義\n",
       "19                           [公告] 估價文從嚴審核\n",
       "20             [公告] 檢舉中心 匯款前有疑慮請撥165防詐騙電話\n",
       "21                  [黑名單] JingYu77 詐騙 已報案\n",
       "0              [賣/彰化/皆可] MSI 1070Gaming X\n",
       "1        [賣/台中/皆可] H110 H310 ITX/960G SSD\n",
       "2          [賣/桃園/面交] Keychron K2茶軸 / G304\n",
       "3                  [賣/台南/皆可]  羅技G502 有線滑鼠\n",
       "4                [徵/台中/面交] pci Gigabit網卡 \n",
       "5                 [徵/全國/皆可] AMD R5-1600  \n",
       "6      [徵/台北/皆可] 金士頓HyperX Cloud Silver耳機\n",
       "7                       [賣/台南/皆可] i5-2400\n",
       "8     [賣/高雄/皆可]利民 AS120 plus 塔散 TY-143 SQ\n",
       "9      [賣/新竹/面交]美光 DDR4-3000 8Gx2 競技版(白) \n",
       "10       [賣/台中/面交] AMD A6-3600 完整主機1000元 \n",
       "11                [賣/台北/面交] 創見DDR2 800 2G\n",
       "12          [賣/淡水/皆可] MSI Vega56 Airboost\n",
       "13       [賣/台中/皆可] 美光 LT DDR4 3200 16G x2\n",
       "14           [賣/台北/面交] 海盜船500W 銅牌 I3-2100\n",
       "15     [徵/全國/皆可] AMD TR2 2970WX or 2990WX\n",
       "16  [徵/台北/面交]  AMD Phenom X6 1100t 1090t \n",
       "17           [公告] 二手板板規 (2019/3/1) / 處分公告\n",
       "18                  [公告] \"禁止發文者刪減或清空文章\"釋義\n",
       "19                           [公告] 估價文從嚴審核\n",
       "20             [公告] 檢舉中心 匯款前有疑慮請撥165防詐騙電話\n",
       "21                  [黑名單] JingYu77 詐騙 已報案"
      ]
     },
     "execution_count": 23,
     "metadata": {},
     "output_type": "execute_result"
    }
   ],
   "source": [
    "df"
   ]
  },
  {
   "cell_type": "markdown",
   "metadata": {},
   "source": [
    "## Save page number"
   ]
  },
  {
   "cell_type": "code",
   "execution_count": 4,
   "metadata": {
    "pycharm": {
     "is_executing": false
    }
   },
   "outputs": [
    {
     "data": {
      "text/plain": "{'[賣/台中/面交]i5-2500k+P8Q67-M ASUS ': 'https://www.ptt.cc//bbs/HardwareSale/M.1583756450.A.CB9.html',\n '[賣/台中/皆可] ASUS P8Z77V-Deluxe 主機板(洽談中)': 'https://www.ptt.cc//bbs/HardwareSale/M.1583721024.A.775.html',\n '[賣/全國/皆可] 華碩 ASUS ROG PUGIO II 滑鼠': 'https://www.ptt.cc//bbs/HardwareSale/M.1583759824.A.3A5.html'}"
     },
     "metadata": {},
     "output_type": "execute_result",
     "execution_count": 4
    }
   ],
   "source": [
    "a = {'[賣/台中/面交]i5-2500k+P8Q67-M ASUS ': 'https://www.ptt.cc//bbs/HardwareSale/M.1583756450.A.CB9.html',\n",
    " '[賣/台中/皆可] ASUS P8Z77V-Deluxe 主機板(洽談中)': 'https://www.ptt.cc//bbs/HardwareSale/M.1583721024.A.775.html'}\n",
    "\n",
    "b = {'[賣/台中/面交]i5-2500k+P8Q67-M ASUS ': 'https://www.ptt.cc//bbs/HardwareSale/M.1583756450.A.CB9.html',\n",
    " '[賣/全國/皆可] 華碩 ASUS ROG PUGIO II 滑鼠': 'https://www.ptt.cc//bbs/HardwareSale/M.1583759824.A.3A5.html',\n",
    " '[賣/台中/皆可] ASUS P8Z77V-Deluxe 主機板(洽談中)': 'https://www.ptt.cc//bbs/HardwareSale/M.1583721024.A.775.html'}\n",
    "\n",
    "a.update(b)\n",
    "a"
   ]
  },
  {
   "cell_type": "code",
   "execution_count": 26,
   "metadata": {},
   "outputs": [
    {
     "name": "stdout",
     "output_type": "stream",
     "text": "False\n"
    }
   ],
   "source": [
    "with open('hardware.pickle', 'wb') as handle:\n",
    "    pickle.dump(a, handle, protocol=pickle.HIGHEST_PROTOCOL)\n",
    "\n",
    "with open('hardware.pickle', 'rb') as handle:\n",
    "    b = pickle.load(handle)\n",
    "\n",
    "print(result == b)"
   ]
  },
  {
   "cell_type": "code",
   "execution_count": 17,
   "metadata": {},
   "outputs": [
    {
     "ename": "KeyError",
     "evalue": "'[賣/全國/皆可] 華碩 ASUS ROG PUGIO II 滑鼠'",
     "output_type": "error",
     "traceback": [
      "\u001b[1;31m---------------------------------------------------------------------------\u001b[0m",
      "\u001b[1;31mKeyError\u001b[0m                                  Traceback (most recent call last)",
      "\u001b[1;32m<ipython-input-17-19e97dea166f>\u001b[0m in \u001b[0;36m<module>\u001b[1;34m\u001b[0m\n\u001b[1;32m----> 1\u001b[1;33m \u001b[0mall\u001b[0m\u001b[1;33m(\u001b[0m\u001b[0mmap\u001b[0m\u001b[1;33m(\u001b[0m\u001b[0ma\u001b[0m\u001b[1;33m.\u001b[0m\u001b[0mpop\u001b[0m\u001b[1;33m,\u001b[0m \u001b[0mb\u001b[0m\u001b[1;33m)\u001b[0m\u001b[1;33m)\u001b[0m\u001b[1;33m\u001b[0m\u001b[1;33m\u001b[0m\u001b[0m\n\u001b[0m",
      "\u001b[1;31mKeyError\u001b[0m: '[賣/全國/皆可] 華碩 ASUS ROG PUGIO II 滑鼠'"
     ]
    }
   ],
   "source": [
    "all(map(a.pop, b))"
   ]
  },
  {
   "cell_type": "code",
   "execution_count": 37,
   "metadata": {},
   "outputs": [
    {
     "output_type": "execute_result",
     "data": {
      "text/plain": "{'[賣/全國/皆可] 華碩 ASUS ROG PUGIO II 滑鼠': 'https://www.ptt.cc//bbs/HardwareSale/M.1583759824.A.3A5.html'}"
     },
     "metadata": {},
     "execution_count": 37
    }
   ],
   "source": [
    "from collections import deque\n",
    "# (Unlike using map() with A.pop, calling A.pop with a None default will not break if a key from B is not present in A. Also,\n",
    "#  unlike using all, this iterator consumer will iterate over all values, regardless of truthiness of the popped values.)\n",
    "consume = deque(maxlen=0).extend\n",
    "consume(b.pop(key, None) for key in a)\n",
    "b"
   ]
  },
  {
   "cell_type": "code",
   "execution_count": 42,
   "metadata": {},
   "outputs": [
    {
     "output_type": "execute_result",
     "data": {
      "text/plain": "0"
     },
     "metadata": {},
     "execution_count": 42
    }
   ],
   "source": [
    "b = {}\n",
    "len(b)"
   ]
  },
  {
   "cell_type": "code",
   "execution_count": null,
   "metadata": {},
   "outputs": [],
   "source": []
  }
 ],
 "metadata": {
  "kernelspec": {
   "display_name": "Python 3",
   "language": "python",
   "name": "python3"
  },
  "language_info": {
   "codemirror_mode": {
    "name": "ipython",
    "version": 3
   },
   "file_extension": ".py",
   "mimetype": "text/x-python",
   "name": "python",
   "nbconvert_exporter": "python",
   "pygments_lexer": "ipython3",
   "version": "3.8.0-final"
  },
  "pycharm": {
   "stem_cell": {
    "cell_type": "raw",
    "source": [],
    "metadata": {
     "collapsed": false
    }
   }
  }
 },
 "nbformat": 4,
 "nbformat_minor": 1
}